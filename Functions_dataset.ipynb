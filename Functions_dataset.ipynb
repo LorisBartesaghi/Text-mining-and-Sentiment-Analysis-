{
 "cells": [
  {
   "cell_type": "code",
   "execution_count": null,
   "id": "4a493b3d",
   "metadata": {},
   "outputs": [],
   "source": [
    "import pandas as pd\n",
    "import requests\n",
    "import xml.etree.ElementTree as ET  # for parsing XML\n",
    "import numpy as np  # for using pandas\n",
    "import pandas as pd  # for using dataframes1\n",
    "import xmltodict, json\n",
    "import pprint"
   ]
  },
  {
   "cell_type": "code",
   "execution_count": null,
   "id": "eb93201d",
   "metadata": {},
   "outputs": [],
   "source": [
    "def extract_film_info(url):\n",
    "    req = (requests.get(url))\n",
    "    dict_= xmltodict.parse(req.content) \n",
    "    comment_list = dict_['items']['item']['link']\n",
    "    df = pd.DataFrame(comment_list)\n",
    "    df = df[(df['@type'].str.contains('category')) | (df['@type'].str.contains('mechanic'))]\n",
    "    df = df.pivot(columns = '@type', values='@value')\n",
    "    df['boardgame_title']= dict_['items']['item']['name'][0]['@value']\n",
    "    return df"
   ]
  },
  {
   "cell_type": "code",
   "execution_count": null,
   "id": "c283f074",
   "metadata": {},
   "outputs": [],
   "source": [
    "def extract_comment_rating(link):\n",
    "    req = (requests.get(link))\n",
    "    dict_data= xmltodict.parse(req.content) \n",
    "    comment_list = dict_data['items']['item']['comments']['comment']\n",
    "    df = pd.DataFrame(comment_list)\n",
    "    return df"
   ]
  },
  {
   "cell_type": "code",
   "execution_count": null,
   "id": "e40b9741",
   "metadata": {},
   "outputs": [],
   "source": [
    "def clean_data(df, url_info):\n",
    "    df = df.rename({'@rating': 'rating', '@value': 'value'}, axis=1)\n",
    "    df['value'].replace('', np.nan, inplace=True)\n",
    "    df.dropna(subset=['value'], inplace=True)\n",
    "    req = (requests.get(url_info)) \n",
    "    dict_data= xmltodict.parse(req.content) \n",
    "    df['boardgame_title']= dict_data['items']['item']['name'][0]['@value']\n",
    "    return df"
   ]
  },
  {
   "cell_type": "code",
   "execution_count": null,
   "id": "c74a8b6a",
   "metadata": {},
   "outputs": [],
   "source": [
    "def return_dataset(url_info, url_commento):\n",
    "    film_info = extract_film_info(url_info)\n",
    "    list_comments = extract_comment_rating(url_commento)\n",
    "    film_comments = clean_data(list_comments, url_info)\n",
    "    data = pd.merge(film_comments, film_info,on = 'boardgame_title' ,how = 'outer')\n",
    "    final_dataset = data[['@username','rating', 'value', 'boardgame_title', 'boardgamecategory', 'boardgamemechanic']]\n",
    "    return final_dataset"
   ]
  },
  {
   "cell_type": "raw",
   "id": "cd21ece4",
   "metadata": {},
   "source": [
    "#here I'm tring to understand the structure of the dictionary #retain tu understand where the things are.\n",
    "def nested_dict_pairs_iterator(dict_obj):\n",
    "    ''' This function accepts a nested dictionary as argument\n",
    "        and iterate over all values of nested dictionaries\n",
    "    '''\n",
    "    # Iterate over all key-value pairs of dict argument\n",
    "    for key, value in dict_obj.items():\n",
    "        # Check if value is of dict type\n",
    "        if isinstance(value, dict):\n",
    "            # If value is dict then iterate over all its values\n",
    "            for pair in  nested_dict_pairs_iterator(value):\n",
    "                yield (key, *pair)\n",
    "        else:\n",
    "            # If value is not dict type then yield the value\n",
    "            yield (key, value)"
   ]
  }
 ],
 "metadata": {
  "kernelspec": {
   "display_name": "Python 3 (ipykernel)",
   "language": "python",
   "name": "python3"
  },
  "language_info": {
   "codemirror_mode": {
    "name": "ipython",
    "version": 3
   },
   "file_extension": ".py",
   "mimetype": "text/x-python",
   "name": "python",
   "nbconvert_exporter": "python",
   "pygments_lexer": "ipython3",
   "version": "3.9.7"
  }
 },
 "nbformat": 4,
 "nbformat_minor": 5
}
